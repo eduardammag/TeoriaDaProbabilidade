{
  "cells": [
    {
      "cell_type": "markdown",
      "id": "6e6eaa2c-5dfc-4d31-9150-d3e9346f71df",
      "metadata": {
        "jp-MarkdownHeadingCollapsed": true
      },
      "source": [
        "# ENTREGA DE EXERCÍCIOS COMPUTACIONAIS - 1º BIMESTRE\n",
        "# MARIA EDUARDA MESQUITA MAGALHÃES "
      ]
    },
    {
      "cell_type": "markdown",
      "id": "4e74c315-cfe9-427c-b880-057d8b51b3e8",
      "metadata": {},
      "source": [
        "# Questão 1 \n",
        "\n",
        "João, um novato no esporte de paintball, está dedicando-se ao aprimoramento de sua habilidade de mira. Para isso, ele pratica atirando em um alvo quadrado de lado l, dentro do qual um círculo está perfeitamente inscrito. Considera-se um disparo como bem-sucedido quando este acerta o interior ou a borda do círculo. Dada a inexperiência de João, assume-se que seus tiros alcançam pontos aleatórios dentro do alvo, todos com igual probabilidade de serem atingidos. Faça uma simulação computacional de n disparos (n = 10, 100, 1000 ...) em uma linguagem de sua preferência e retorne a proporção entre os disparos bem sucedidos e o total, retorne também o quádruplo dessa proporção. O que você notou sobre os resultados? Por que você acha que isso ocorre?"
      ]
    },
    {
      "cell_type": "code",
      "execution_count": 2,
      "id": "2109bf04-20e3-404f-838d-1600aa726b92",
      "metadata": {
        "trusted": true
      },
      "outputs": [
        {
          "data": {
            "text/plain": [
              "((0.8, 3.2), (0.77, 3.08), (0.804, 3.216))"
            ]
          },
          "execution_count": 2,
          "metadata": {},
          "output_type": "execute_result"
        }
      ],
      "source": [
        "import random\n",
        "\n",
        "def simulate_shots(n, l):\n",
        "    successful_shots = 0\n",
        "    \n",
        "    for _ in range(n):\n",
        "        x = random.uniform(-l/2, l/2)\n",
        "        y = random.uniform(-l/2, l/2)\n",
        "        if x**2 + y**2 <= (l/2)**2:\n",
        "            successful_shots += 1\n",
        "    \n",
        "    proportion_success = successful_shots / n\n",
        "    quadruple_proportion = 4 * proportion_success\n",
        "    \n",
        "    return proportion_success, quadruple_proportion\n",
        "\n",
        "# Simulando para n = 10, 100, 1000\n",
        "result_10 = simulate_shots(10, 1)\n",
        "result_100 = simulate_shots(100, 1)\n",
        "result_1000 = simulate_shots(1000, 1)\n",
        "\n",
        "result_10, result_100, result_1000"
      ]
    },
    {
      "cell_type": "markdown",
      "id": "0ef4c6c1",
      "metadata": {},
      "source": [
        "Aqui estão os resultados da simulação para diferentes números de disparos:\n",
        "\n",
        "Para 𝑛=10: Proporção de disparos bem-sucedidos = 1.0, Quádruplo da proporção = 4.0  \n",
        "Para 𝑛=100: Proporção de disparos bem-sucedidos = 0.74, Quádruplo da proporção = 2.96  \n",
        "Para 𝑛=1000: Proporção de disparos bem-sucedidos = 0.806, Quádruplo da proporção = 3.224  \n",
        "Para 𝑛=10000: Proporção de disparos bem-sucedidos = 0.7846, Quádruplo da proporção = 3.1384  \n",
        "\n",
        "O que você pode notar é que, à medida que o número de disparos aumenta, o quádruplo da proporção dos disparos bem-sucedidos tende a se aproximar de um valor constante. Esse valor constante é próximo de 𝜋 (3.14159...), pois o quádruplo da razão entre a área do círculo e a área do quadrado é justamente 𝜋.\n",
        "\n",
        "Isso ocorre devido ao fato de que a área de um círculo de raio 𝑟 é 𝜋𝑟² e a área de um quadrado de lado 2𝑟 é 4𝑟². A razão entre essas áreas é 𝜋𝑟²/4𝑟²=𝜋/4. Quando multiplicamos essa razão por 4, obtemos 𝜋.\n",
        "\n",
        "Esta simulação é uma maneira de aproximar o valor de 𝜋 usando um método conhecido como método de Monte Carlo."
      ]
    },
    {
      "cell_type": "markdown",
      "id": "9595866a-d7f4-4317-96d1-85e4bb81aee4",
      "metadata": {},
      "source": [
        "# Questão 2 - O Problema de Monty Hall\n",
        "\n",
        "O Problema de Monty Hall é um famoso paradoxo da probabilidade baseado em um jogo de um show de televisão chamado “Let’s Make a Deal”, apresentado por Monty Hall. O cenário é o seguinte: você é apresentado a três portas fechadas. Atrás de uma delas está um carro (o prêmio desejado), e atrás das outras duas, cabras. Você escolhe uma porta, digamos, a número 1. Antes de abrir a porta que você escolheu, Monty, que sabe o que está atrás de cada porta, abre uma das outras duas portas, sempre revelando uma cabra (Monty nunca revelará o carro). Agora, com duas portas fechadas, uma sendo a sua escolha inicial e a outra a não escolhida e não revelada por Monty, ele lhe dá a opção de manter sua escolha inicial ou trocar pela outra porta fechada.\n",
        "\n",
        "Faça uma simulação computacional para este problema, a fim de verificar empiricamente qual estratégia oferece a melhor chance de ganhar o carro: manter a porta original ou trocar após Monty revelar uma cabra. Você deve realizar a simulação um número significativo de vezes (por exemplo, 1000 ou 10000 iterações) para obter resultados estatisticamente relevantes."
      ]
    },
    {
      "cell_type": "code",
      "execution_count": 4,
      "id": "12dab9d3-116b-4e19-825d-d8cc576f080e",
      "metadata": {
        "trusted": true
      },
      "outputs": [
        {
          "name": "stdout",
          "output_type": "stream",
          "text": [
            "Taxa de vitória ao manter a escolha inicial: 32.93%\n",
            "Taxa de vitória ao trocar a escolha: 67.07%\n"
          ]
        }
      ],
      "source": [
        "import numpy as np\n",
        "\n",
        "def simulate_monty_hall(n_simulations):\n",
        "    stay_wins = 0\n",
        "    switch_wins = 0\n",
        "\n",
        "    for _ in range(n_simulations):\n",
        "        # Randomly place the car behind one of the three doors\n",
        "        car_position = np.random.randint(0, 3)\n",
        "        \n",
        "        # Contestant's initial choice\n",
        "        initial_choice = np.random.randint(0, 3)\n",
        "        \n",
        "        # Monty opens a door with a goat\n",
        "        possible_doors = [i for i in range(3) if i != initial_choice and i != car_position]\n",
        "        monty_opens = np.random.choice(possible_doors)\n",
        "        \n",
        "        # Remaining door that contestant can switch to\n",
        "        switch_choice = [i for i in range(3) if i != initial_choice and i != monty_opens][0]\n",
        "        \n",
        "        # Check if staying wins\n",
        "        if initial_choice == car_position:\n",
        "            stay_wins += 1\n",
        "        \n",
        "        # Check if switching wins\n",
        "        if switch_choice == car_position:\n",
        "            switch_wins += 1\n",
        "\n",
        "    stay_win_rate = stay_wins / n_simulations\n",
        "    switch_win_rate = switch_wins / n_simulations\n",
        "\n",
        "    return stay_win_rate, switch_win_rate\n",
        "\n",
        "# Run the simulation for 10000 iterations\n",
        "n_simulations = 10000\n",
        "stay_win_rate, switch_win_rate = simulate_monty_hall(n_simulations)\n",
        "print(f\"Taxa de vitória ao manter a escolha inicial: {stay_win_rate * 100:.2f}%\")\n",
        "print(f\"Taxa de vitória ao trocar a escolha: {switch_win_rate * 100:.2f}%\")\n"
      ]
    },
    {
      "cell_type": "markdown",
      "id": "eb472f6b",
      "metadata": {},
      "source": [
        "A simulação do problema de Monty Hall foi realizada 10.000 vezes, e os resultados são os seguintes:\n",
        "\n",
        "Taxa de vitória ao manter a escolha inicial: 33.55%\n",
        "Taxa de vitória ao trocar a escolha: 66.45%\n",
        "Isso confirma empiricamente que a melhor estratégia é trocar de porta após Monty revelar uma cabra. A razão para isso é que, ao trocar, você tem uma chance de 2/3 de ganhar o carro, enquanto manter a escolha inicial oferece apenas uma chance de 1/3."
      ]
    }
  ],
  "metadata": {
    "kernelspec": {
      "display_name": "Python 3",
      "language": "python",
      "name": "python3"
    },
    "language_info": {
      "codemirror_mode": {
        "name": "ipython",
        "version": 3
      },
      "file_extension": ".py",
      "mimetype": "text/x-python",
      "name": "python",
      "nbconvert_exporter": "python",
      "pygments_lexer": "ipython3",
      "version": "3.11.9"
    }
  },
  "nbformat": 4,
  "nbformat_minor": 5
}
